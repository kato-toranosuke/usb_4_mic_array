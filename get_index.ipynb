{
 "cells": [
  {
   "cell_type": "code",
   "execution_count": 31,
   "metadata": {},
   "outputs": [],
   "source": [
    "import pyaudio\n",
    "import usb.core\n",
    "import usb.util\n",
    "import usb.control\n",
    "import numpy as np\n",
    "import json\n",
    "import os\n",
    "from lib.mic_array import MicArray\n",
    "from lib.usb_pixel_ring_v2 import PixelRing\n",
    "from lib.tuning import Tuning\n",
    "import time\n",
    "import concurrent.futures\n",
    "from datetime import datetime\n",
    "import soundfile as sf\n",
    "import math"
   ]
  },
  {
   "cell_type": "code",
   "execution_count": 2,
   "metadata": {},
   "outputs": [],
   "source": [
    "def getDeviceIndex():\n",
    "  # constants\n",
    "  DEVICE_NAME = 'ReSpeaker 4 Mic Array (UAC1.0)'\n",
    "\n",
    "  device_idx = []\n",
    "  p = pyaudio.PyAudio()\n",
    "  info = p.get_host_api_info_by_index(0)\n",
    "  numdevices = info.get('deviceCount')\n",
    "\n",
    "  # respeakerのデバイスインデックスを取得\n",
    "  for i in range(0, numdevices):\n",
    "    device = p.get_device_info_by_host_api_device_index(0, i)\n",
    "    if (device.get('maxInputChannels')) > 0 and (device.get('name')==DEVICE_NAME):\n",
    "      device_idx.append(i)\n",
    "      print(\"Input Device id \", i, \" - \", device.get('name'))\n",
    "  \n",
    "  return device_idx\n",
    "\n",
    "def recordParallel(mic_array: MicArray, fname=None):\n",
    "  mic_array.record(fname=fname)\n",
    "\n",
    "def recAndGetDoa(rec_dev: MicArray, doa_dev: Tuning, fname=None):\n",
    "  # 録音\n",
    "  rec_dev.record(fname=fname)\n",
    "  # DoA取得\n",
    "  doa = doa_dev.direction\n",
    "  return doa"
   ]
  },
  {
   "cell_type": "markdown",
   "metadata": {},
   "source": [
    "# インデックスを確認"
   ]
  },
  {
   "cell_type": "markdown",
   "metadata": {},
   "source": [
    "# 録音"
   ]
  },
  {
   "cell_type": "code",
   "execution_count": 4,
   "metadata": {},
   "outputs": [
    {
     "name": "stdout",
     "output_type": "stream",
     "text": [
      "Device id: 1\n",
      "* recording\n",
      "* done recording\n"
     ]
    }
   ],
   "source": [
    "dev_idx = getDeviceIndex()\n",
    "mic_array = MicArray(dev_idx[0])\n",
    "mic_array.record(2)"
   ]
  },
  {
   "cell_type": "markdown",
   "metadata": {},
   "source": [
    "## 複数マイクロホンアレイを同時録音\n",
    "1. 取得した音声とマイクの対応付\n",
    "1. DoAとマイクの対応付"
   ]
  },
  {
   "cell_type": "code",
   "execution_count": null,
   "metadata": {},
   "outputs": [],
   "source": [
    "dev_idx = getDeviceIndex()\n",
    "if dev_idx:\n",
    "  mic_arrays = [MicArray(idx) for idx in dev_idx]\n",
    "\n",
    "  # 並列処理\n",
    "  # with concurrent.futures.ThreadPoolExecutor(max_workers=len(mic_arrays)) as executor:\n",
    "  # with concurrent.futures.ProcessPoolExecutor() as executor:\n",
    "  with concurrent.futures.ThreadPoolExecutor() as executor:\n",
    "    time.sleep(1)\n",
    "    executor.map(recordParallel, mic_arrays)"
   ]
  },
  {
   "cell_type": "markdown",
   "metadata": {},
   "source": [
    "# LED"
   ]
  },
  {
   "cell_type": "code",
   "execution_count": 3,
   "metadata": {},
   "outputs": [
    {
     "name": "stdout",
     "output_type": "stream",
     "text": [
      "[<DEVICE ID 2886:0018 on Bus 020 Address 020>, <DEVICE ID 2886:0018 on Bus 020 Address 019>, <DEVICE ID 2886:0018 on Bus 020 Address 018>, <DEVICE ID 2886:0018 on Bus 020 Address 017>, <DEVICE ID 2886:0018 on Bus 020 Address 014>]\n"
     ]
    }
   ],
   "source": [
    "# デバイスを取得\n",
    "VID = 0x2886\n",
    "PID = 0x0018\n",
    "\n",
    "devs = usb.core.find(idVendor=VID, idProduct=PID, find_all=True)\n",
    "devs = list(devs)\n",
    "print(devs)\n",
    "# if devs:\n",
    "#   for dev in devs:\n",
    "#     print(dev)"
   ]
  },
  {
   "cell_type": "code",
   "execution_count": 44,
   "metadata": {},
   "outputs": [],
   "source": [
    "# 全てのデバイスをオフにする\n",
    "for dev in devs:\n",
    "  pixel_ring = PixelRing(dev)\n",
    "  pixel_ring.wakeup(180)\n",
    "  pixel_ring.off()"
   ]
  },
  {
   "cell_type": "code",
   "execution_count": 4,
   "metadata": {},
   "outputs": [],
   "source": [
    "# 特定のデバイスのLEDをつける\n",
    "dev = devs[0]\n",
    "pixel_ring = PixelRing(dev)\n",
    "pixel_ring.think()\n",
    "time.sleep(5)\n",
    "pixel_ring.off()"
   ]
  },
  {
   "cell_type": "code",
   "execution_count": 38,
   "metadata": {},
   "outputs": [],
   "source": [
    "VID = 0x2886\n",
    "PID = 0x0018\n",
    "\n",
    "devs = usb.core.find(idVendor=VID, idProduct=PID, find_all=True)\n",
    "if devs:\n",
    "  for dev in devs:\n",
    "    pixel_ring = PixelRing(dev)\n",
    "\n",
    "    pixel_ring.wakeup(180)\n",
    "    time.sleep(3)\n",
    "    pixel_ring.listen()\n",
    "    time.sleep(3)\n",
    "    pixel_ring.think()\n",
    "    time.sleep(3)\n",
    "    pixel_ring.set_volume(8)\n",
    "    time.sleep(3)\n",
    "    pixel_ring.off()\n",
    "    time.sleep(3)"
   ]
  },
  {
   "cell_type": "markdown",
   "metadata": {},
   "source": [
    "# DoA"
   ]
  },
  {
   "cell_type": "code",
   "execution_count": null,
   "metadata": {},
   "outputs": [],
   "source": [
    "VID = 0x2886\n",
    "PID = 0x0018\n",
    "\n",
    "devs = usb.core.find(idVendor=VID, idProduct=PID, find_all=True)\n",
    "if devs:\n",
    "  for dev in devs:\n",
    "    mic_tuning = Tuning(dev)\n",
    "    while True:\n",
    "      try:\n",
    "        print(mic_tuning.direction)\n",
    "        time.sleep(1)\n",
    "      except KeyboardInterrupt:\n",
    "        break"
   ]
  },
  {
   "cell_type": "markdown",
   "metadata": {},
   "source": [
    "# 実験"
   ]
  },
  {
   "cell_type": "markdown",
   "metadata": {},
   "source": [
    "## デバイスの捜索"
   ]
  },
  {
   "cell_type": "code",
   "execution_count": 3,
   "metadata": {},
   "outputs": [
    {
     "name": "stdout",
     "output_type": "stream",
     "text": [
      "Input Device id  0  -  ReSpeaker 4 Mic Array (UAC1.0)\n",
      "Input Device id  1  -  ReSpeaker 4 Mic Array (UAC1.0)\n",
      "Input Device id  2  -  ReSpeaker 4 Mic Array (UAC1.0)\n",
      "Input Device id  3  -  ReSpeaker 4 Mic Array (UAC1.0)\n"
     ]
    }
   ],
   "source": [
    "# 保存先のディレクトリを作成\n",
    "n_array = 4 # アレイの数\n",
    "current_datetime = datetime.now() # 日付\n",
    "formatted_datetime = current_datetime.strftime(\"%Y%m%d\")\n",
    "\n",
    "OUT_DIR = f'/Users/toranosuke/Desktop/experiment/result/{formatted_datetime}/narray_{n_array}/'\n",
    "if os.path.exists(OUT_DIR):\n",
    "  raise ValueError(\"OUT_DIR already exists\")\n",
    "os.makedirs(OUT_DIR, exist_ok=True)\n",
    "\n",
    "# デバイスを取得\n",
    "## 録音用\n",
    "dev_idx = getDeviceIndex()\n",
    "if dev_idx:\n",
    "  rec_devs = [MicArray(idx, out_dir_path=OUT_DIR) for idx in dev_idx]\n",
    "## DOA用\n",
    "VID = 0x2886\n",
    "PID = 0x0018\n",
    "usb_devs = usb.core.find(idVendor=VID, idProduct=PID, find_all=True)\n",
    "usb_devs = list(usb_devs)\n",
    "doa_devs = [Tuning(dev) for dev in usb_devs]\n",
    "\n",
    "assert len(rec_devs) == len(doa_devs), 'The number of devices is different'"
   ]
  },
  {
   "cell_type": "markdown",
   "metadata": {},
   "source": [
    "## 録音、DoAのインデックスの対応付"
   ]
  },
  {
   "cell_type": "code",
   "execution_count": 7,
   "metadata": {},
   "outputs": [
    {
     "name": "stdout",
     "output_type": "stream",
     "text": [
      "[Device ID:0] * recording\n",
      "[Device ID:1] * recording\n",
      "[Device ID:2] * recording\n",
      "[Device ID:3] * recording\n",
      "[Device ID:0] * done recording\n",
      "[Device ID:1] * done recording\n",
      "[Device ID:2] * done recording\n",
      "[Device ID:3] * done recording\n"
     ]
    }
   ],
   "source": [
    "# 全録音デバイスで録音\n",
    "if dev_idx:\n",
    "  mic_arrays = [MicArray(idx) for idx in dev_idx]\n",
    "\n",
    "  # 並列処理\n",
    "  with concurrent.futures.ThreadPoolExecutor() as executor:\n",
    "    time.sleep(1)\n",
    "    executor.map(recordParallel, mic_arrays)"
   ]
  },
  {
   "cell_type": "code",
   "execution_count": 12,
   "metadata": {},
   "outputs": [],
   "source": [
    "# 特定のデバイスのLEDをつける\n",
    "dev = usb_devs[3]\n",
    "pixel_ring = PixelRing(dev)\n",
    "pixel_ring.think()\n",
    "time.sleep(5)\n",
    "pixel_ring.off()"
   ]
  },
  {
   "cell_type": "code",
   "execution_count": 13,
   "metadata": {},
   "outputs": [],
   "source": [
    "array_idx_info = [\n",
    "  {'array_id': 1, 'i_rec': 0, 'i_doa': 0},\n",
    "  {'array_id': 2, 'i_rec': 2, 'i_doa': 1},\n",
    "  {'array_id': 3, 'i_rec': 3, 'i_doa': 3},\n",
    "  {'array_id': 4, 'i_rec': 1, 'i_doa': 2},\n",
    "]"
   ]
  },
  {
   "cell_type": "markdown",
   "metadata": {},
   "source": [
    "## 録音"
   ]
  },
  {
   "cell_type": "code",
   "execution_count": 38,
   "metadata": {},
   "outputs": [
    {
     "name": "stdout",
     "output_type": "stream",
     "text": [
      "[[ 1.0000000e+00  6.1232340e-17 -1.0000000e+00 -1.8369702e-16]\n",
      " [ 0.0000000e+00  1.0000000e+00  1.2246468e-16 -1.0000000e+00]]\n"
     ]
    }
   ],
   "source": [
    "trial_no = 9 # 試行回数\n",
    "\n",
    "# array id順にデバイスを並び替え\n",
    "rec_devs_order_by_array_id = [rec_devs[info['i_rec']] for info in array_idx_info]\n",
    "doa_devs_order_by_array_id = [doa_devs[info['i_doa']] for info in array_idx_info]\n",
    "\n",
    "# ファイル名\n",
    "wav_fnames = [f'mic-{info[\"array_id\"]}_trial-{trial_no}' for info in array_idx_info]\n",
    "\n",
    "# 並列処理\n",
    "with concurrent.futures.ThreadPoolExecutor() as executor:\n",
    "  time.sleep(1.5)\n",
    "  doa_rets = executor.map(recAndGetDoa, rec_devs_order_by_array_id, doa_devs_order_by_array_id, wav_fnames)\n",
    "\n",
    "# doa情報や各種メタ情報を保存\n",
    "source_loc = np.r_[0, 0]\n",
    "d = 1.0 # [m] \n",
    "array_interval_deg = 360/n_array\n",
    "\n",
    "# マイクロホンアレイの中心座標を計算\n",
    "array_locs = np.zeros((2, n_array))\n",
    "for i in range(n_array):\n",
    "  array_rad = math.radians(array_interval_deg * i)\n",
    "  array_loc = np.r_[d * math.cos(array_rad), d * math.sin(array_rad)] + source_loc\n",
    "  array_locs[:, i] = array_loc.T\n",
    "\n",
    "json_fname = f'trial-{trial_no}'\n",
    "result_info = {\n",
    "  'source': {\n",
    "    'azimuth': 0,\n",
    "    'source_loc': source_loc.tolist(),\n",
    "  },\n",
    "  'mic': {\n",
    "    'n_array': n_array,\n",
    "    'n_ch': 4,\n",
    "    'array_info': array_idx_info,\n",
    "    'doa': list(doa_rets),\n",
    "    'array_interval_deg': array_interval_deg,\n",
    "    'src_array_dist': d,\n",
    "    'array_loc': array_locs.tolist()\n",
    "  },\n",
    "  'trial': trial_no,\n",
    "}\n",
    "with open(OUT_DIR+json_fname+'.json', 'w') as f:\n",
    "  json.dump(result_info, f, indent=2)\n",
    "print(OUT_DIR+json_fname+'.json')"
   ]
  },
  {
   "cell_type": "code",
   "execution_count": 34,
   "metadata": {},
   "outputs": [
    {
     "data": {
      "text/plain": [
       "array([[1, 2]])"
      ]
     },
     "execution_count": 34,
     "metadata": {},
     "output_type": "execute_result"
    }
   ],
   "source": [
    "np.c_[1,2]"
   ]
  },
  {
   "cell_type": "markdown",
   "metadata": {},
   "source": [
    "# マイクキャリブレーション"
   ]
  },
  {
   "cell_type": "markdown",
   "metadata": {},
   "source": [
    "## キャリブレーション用音源"
   ]
  },
  {
   "cell_type": "code",
   "execution_count": 27,
   "metadata": {},
   "outputs": [],
   "source": [
    "import numpy as np\n",
    "import wave\n",
    "\n",
    "# Set the parameters\n",
    "frequency = 16000\n",
    "duration = 180  # in seconds\n",
    "sampling_rate = 44100\n",
    "amplitude = 32767\n",
    "\n",
    "# Generate the sine wave\n",
    "samples = (np.sin(2*np.pi*np.arange(sampling_rate*duration)*frequency/sampling_rate)).astype(np.float32)\n",
    "\n",
    "# Save the sine wave as a wav file\n",
    "with wave.open(f'/Users/toranosuke/Desktop/experiment/array_calibration/sound_src/sine_wave_{frequency}hz.wav', 'wb') as f:\n",
    "  f.setnchannels(1)\n",
    "  f.setsampwidth(2)\n",
    "  f.setframerate(sampling_rate)\n",
    "  f.writeframes((samples*amplitude).astype(np.int16))\n"
   ]
  },
  {
   "cell_type": "markdown",
   "metadata": {},
   "source": [
    "## 校正音源の録音"
   ]
  },
  {
   "cell_type": "code",
   "execution_count": 3,
   "metadata": {},
   "outputs": [
    {
     "name": "stdout",
     "output_type": "stream",
     "text": [
      "Input Device id  0  -  ReSpeaker 4 Mic Array (UAC1.0)\n",
      "Input Device id  1  -  ReSpeaker 4 Mic Array (UAC1.0)\n"
     ]
    }
   ],
   "source": [
    "dev_idx = getDeviceIndex()"
   ]
  },
  {
   "cell_type": "markdown",
   "metadata": {},
   "source": [
    "### インデックス対応"
   ]
  },
  {
   "cell_type": "code",
   "execution_count": 4,
   "metadata": {},
   "outputs": [
    {
     "name": "stdout",
     "output_type": "stream",
     "text": [
      "[Device ID:0] * recording\n",
      "[Device ID:1] * recording\n",
      "[Device ID:0] * done recording\n",
      "[Device ID:1] * done recording\n"
     ]
    }
   ],
   "source": [
    "if dev_idx:\n",
    "  mic_arrays = [MicArray(idx) for idx in dev_idx]\n",
    "\n",
    "  # 並列処理\n",
    "  with concurrent.futures.ThreadPoolExecutor() as executor:\n",
    "    time.sleep(1)\n",
    "    executor.map(recordParallel, mic_arrays)"
   ]
  },
  {
   "cell_type": "markdown",
   "metadata": {},
   "source": [
    "### 録音"
   ]
  },
  {
   "cell_type": "code",
   "execution_count": 10,
   "metadata": {},
   "outputs": [
    {
     "name": "stdout",
     "output_type": "stream",
     "text": [
      "[Device ID:0] * recording\n",
      "[Device ID:1] * recording\n",
      "[Device ID:0] * done recording\n",
      "[Device ID:1] * done recording\n",
      "['mic-5_f-2000_trial-1', 'mic-1_f-2000_trial-1']\n",
      "[Device ID:0] * recording\n",
      "[Device ID:1] * recording\n",
      "[Device ID:0] * done recording\n",
      "[Device ID:1] * done recording\n",
      "['mic-5_f-2000_trial-2', 'mic-1_f-2000_trial-2']\n",
      "[Device ID:0] * recording\n",
      "[Device ID:1] * recording\n",
      "[Device ID:0] * done recording\n",
      "[Device ID:1] * done recording\n",
      "['mic-5_f-2000_trial-3', 'mic-1_f-2000_trial-3']\n"
     ]
    }
   ],
   "source": [
    "ref_array_idx = 1\n",
    "test_array_idx = 5\n",
    "OUT_DIR = f'/Users/toranosuke/Desktop/array_calibration/result/ref_{ref_array_idx}_test_{test_array_idx}/'\n",
    "os.makedirs(OUT_DIR, exist_ok=True)\n",
    "\n",
    "if dev_idx:\n",
    "  mic_arrays = [MicArray(idx, out_dir_path=OUT_DIR) for idx in dev_idx]\n",
    "\n",
    "trial_num = 3\n",
    "for i in range(trial_num):\n",
    "  trial = i+1\n",
    "  # src_hz = 125\n",
    "  # src_hz = 250\n",
    "  # src_hz = 500\n",
    "  # src_hz = 1000\n",
    "  src_hz = 2000\n",
    "\n",
    "  if dev_idx:\n",
    "    fnames = [f'mic-{test_array_idx}_f-{src_hz}_trial-{trial}', \n",
    "              f'mic-{ref_array_idx}_f-{src_hz}_trial-{trial}']\n",
    "\n",
    "    # 並列処理\n",
    "    with concurrent.futures.ThreadPoolExecutor() as executor:\n",
    "      time.sleep(2)\n",
    "      executor.map(recordParallel, mic_arrays, fnames)\n",
    "    print(fnames)"
   ]
  },
  {
   "cell_type": "markdown",
   "metadata": {},
   "source": [
    "## 増幅率を計算"
   ]
  },
  {
   "cell_type": "code",
   "execution_count": 15,
   "metadata": {},
   "outputs": [],
   "source": [
    "def calcSPL(sigs, fs, s_time=-1, e_time=-1):\n",
    "  assert s_time <= e_time, 's_time must be smaller than e_time'\n",
    "  if s_time == -1 and e_time == -1:\n",
    "    s_idx = 0\n",
    "    e_idx = sigs.shape[0]\n",
    "  else:\n",
    "    s_idx = s_time * fs\n",
    "    e_idx = e_time * fs\n",
    "\n",
    "  L = e_idx - s_idx\n",
    "  # I = np.sum(sigs**2, axis=0) / L\n",
    "  # I0 = 10**(-12)\n",
    "  # spl = 10 * np.log10(I / I0)\n",
    "  p_sqr = np.sum(sigs**2, axis=0) / L\n",
    "  p0 = 2*10**(-5)\n",
    "  spl = 10 * np.log10(p_sqr / p0**2)\n",
    "  return spl"
   ]
  },
  {
   "cell_type": "code",
   "execution_count": 24,
   "metadata": {},
   "outputs": [
    {
     "name": "stdout",
     "output_type": "stream",
     "text": [
      "hz: 125, test_array_idx: 2\n",
      "mean: 0.15278159703399533, std: 0.00034202965646674033\n",
      "\n",
      "hz: 250, test_array_idx: 2\n",
      "mean: 0.1061759472618841, std: 0.00594778356137463\n",
      "\n",
      "hz: 500, test_array_idx: 2\n",
      "mean: 1.802301123762696, std: 0.007895778587487122\n",
      "\n",
      "hz: 1000, test_array_idx: 2\n",
      "mean: 0.08409750345825746, std: 0.008427155730253974\n",
      "\n",
      "hz: 2000, test_array_idx: 2\n",
      "mean: 1.2889425454682548, std: 0.0020486113454129375\n",
      "\n"
     ]
    }
   ],
   "source": [
    "WAV_PATH = '/Users/toranosuke/Desktop/experiment/array_calibration/result/'\n",
    "\n",
    "src_hz = [125, 250, 500, 1000, 2000]\n",
    "ref_array_idx = 1\n",
    "# test_array_idxs = [2, 3, 4, 5]\n",
    "test_array_idxs = [2]\n",
    "trial = [1, 2, 3]\n",
    "\n",
    "for hz in src_hz:\n",
    "  for test_array_idx in test_array_idxs:\n",
    "    dir_name = f'ref_{ref_array_idx}_test_{test_array_idx}/'\n",
    "    gains = []\n",
    "    for t in trial:\n",
    "      ref_fname = f'mic-{ref_array_idx}_f-{hz}_trial-{t}.wav'\n",
    "      test_fname = f'mic-{test_array_idx}_f-{hz}_trial-{t}.wav'\n",
    "      ref_sig, ref_fs = sf.read(WAV_PATH + dir_name + ref_fname)\n",
    "      test_sig, test_fs = sf.read(WAV_PATH + dir_name + test_fname)\n",
    "      \n",
    "      ref_spl = calcSPL(ref_sig[:, 1:5], ref_fs)\n",
    "      ref_spl = np.mean(ref_spl) # 4chの平均\n",
    "      test_spl = calcSPL(test_sig[:, 1:5], test_fs)\n",
    "      test_spl = np.mean(test_spl)\n",
    "            \n",
    "      gain = test_spl - ref_spl\n",
    "      gains.append(gain)\n",
    "    gains = np.array(gains)\n",
    "    gain_mean = np.mean(gains, axis=0)\n",
    "    gain_std = np.std(gains, axis=0)\n",
    "    print(f'hz: {hz}, test_array_idx: {test_array_idx}')\n",
    "    print(f'mean: {gain_mean}, std: {gain_std}')\n",
    "    print()"
   ]
  },
  {
   "cell_type": "code",
   "execution_count": null,
   "metadata": {},
   "outputs": [],
   "source": [
    "WAV_PATH = '/Users/toranosuke/Desktop/experiment/array_calibration/result/'\n",
    "\n",
    "src_hz = [125, 250, 500, 1000, 2000]\n",
    "ref_array_idx = 1\n",
    "# test_array_idxs = [2, 3, 4, 5]\n",
    "test_array_idxs = [5]\n",
    "trial = [1, 2, 3]\n",
    "\n",
    "for hz in src_hz:\n",
    "  for test_array_idx in test_array_idxs:\n",
    "    dir_name = f'ref_{ref_array_idx}_test_{test_array_idx}/'\n",
    "    gains = []\n",
    "    for t in trial:\n",
    "      ref_fname = f'mic-{ref_array_idx}_f-{hz}_trial-{t}.wav'\n",
    "      test_fname = f'mic-{test_array_idx}_f-{hz}_trial-{t}.wav'\n",
    "      ref_sig, ref_fs = sf.read(WAV_PATH + dir_name + ref_fname)\n",
    "      test_sig, test_fs = sf.read(WAV_PATH + dir_name + test_fname)\n",
    "      \n",
    "      ref_spl = calcSPL(ref_sig[:, 1:5], ref_fs)\n",
    "      ref_spl = np.mean(ref_spl) # 4chの平均\n",
    "      test_spl = calcSPL(test_sig[:, 1:5], test_fs)\n",
    "      test_spl = np.mean(test_spl)\n",
    "            \n",
    "      gain = test_spl - ref_spl\n",
    "      gains.append(gain)\n",
    "    gains = np.array(gains)\n",
    "    gain_mean = np.mean(gains, axis=0)\n",
    "    gain_std = np.std(gains, axis=0)\n",
    "    print(f'hz: {hz}, test_array_idx: {test_array_idx}')\n",
    "    print(f'mean: {gain_mean}, std: {gain_std}')\n",
    "    print()"
   ]
  },
  {
   "cell_type": "markdown",
   "metadata": {},
   "source": [
    "# JSONに情報を追加する"
   ]
  },
  {
   "cell_type": "code",
   "execution_count": 44,
   "metadata": {},
   "outputs": [],
   "source": [
    "n_arrays = [3, 4, 5]\n",
    "source_loc = np.r_[0, 0]\n",
    "d = 1.0 # [m] \n",
    "\n",
    "for n_array in n_arrays:\n",
    "  array_interval_deg = 360/n_array\n",
    "  # マイクロホンアレイの中心座標を計算\n",
    "  array_locs = np.zeros((2, n_array))\n",
    "  for i in range(n_array):\n",
    "    array_rad = math.radians(array_interval_deg * i)\n",
    "    array_loc = np.r_[d * math.cos(array_rad), d * math.sin(array_rad)] + source_loc\n",
    "    array_locs[:, i] = array_loc.T\n",
    "  \n",
    "  json_dir = f'/Users/toranosuke/Desktop/experiment/result/20231121/narray_{n_array}/'\n",
    "  files = os.listdir(json_dir)\n",
    "\n",
    "  # jsonファイルを読み込む\n",
    "  for file in files:\n",
    "    if file.endswith('.json'):\n",
    "      json_path = os.path.join(json_dir, file)\n",
    "      with open(json_path, 'r') as f:\n",
    "        meta_tmp = json.load(f)\n",
    "      \n",
    "      meta = {\n",
    "        'source': {\n",
    "          'azimuth': 0,\n",
    "          'source_loc': source_loc.tolist(),\n",
    "        },\n",
    "        'mic': {\n",
    "          'n_array': meta_tmp['n_array'],\n",
    "          'n_ch': 4,\n",
    "          'array_info': meta_tmp['array_info'],\n",
    "          'doa': meta_tmp['doa'],\n",
    "          'array_interval_deg': array_interval_deg,\n",
    "          'src_array_dist': d,\n",
    "          'array_loc': array_locs.tolist()\n",
    "        },\n",
    "        'trial': meta_tmp['trial'],\n",
    "      }\n",
    "\n",
    "      with open(json_path, 'w') as f:\n",
    "        json.dump(meta, f, indent=2)"
   ]
  }
 ],
 "metadata": {
  "kernelspec": {
   "display_name": "Python 3",
   "language": "python",
   "name": "python3"
  },
  "language_info": {
   "codemirror_mode": {
    "name": "ipython",
    "version": 3
   },
   "file_extension": ".py",
   "mimetype": "text/x-python",
   "name": "python",
   "nbconvert_exporter": "python",
   "pygments_lexer": "ipython3",
   "version": "3.9.13"
  }
 },
 "nbformat": 4,
 "nbformat_minor": 2
}
